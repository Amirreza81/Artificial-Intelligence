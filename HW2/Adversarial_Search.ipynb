{
 "cells": [
  {
   "cell_type": "markdown",
   "metadata": {},
   "source": [
    "<img src='http://www-scf.usc.edu/~ghasemig/images/sharif.png' alt=\"SUT logo\" width=300 height=300 align=left class=\"saturate\" >\n",
    "\n",
    "<br>\n",
    "<font>\n",
    "<div dir=ltr align=center>\n",
    "<font color=0F5298 size=7>\n",
    "    Artificial Intelligence <br>\n",
    "<font color=2565AE size=5>\n",
    "    Computer Engineering Department <br>\n",
    "    Spring 2023<br>\n",
    "<font color=3C99D size=5>\n",
    "    Practical Assignment 2 - Adversarial Search <br>\n",
    "<font color=696880 size=4>\n",
    "    Amirmohammad Isazadeh\n",
    "\n",
    "____"
   ]
  },
  {
   "cell_type": "markdown",
   "metadata": {},
   "source": [
    "# Personal Data"
   ]
  },
  {
   "cell_type": "code",
   "execution_count": null,
   "metadata": {
    "collectable": true,
    "execution": {
     "iopub.execute_input": "2021-10-01T16:01:36.762477Z",
     "iopub.status.busy": "2021-10-01T16:01:36.762155Z",
     "iopub.status.idle": "2021-10-01T16:01:36.764025Z",
     "shell.execute_reply": "2021-10-01T16:01:36.763754Z"
    }
   },
   "outputs": [],
   "source": [
    "# Set your student number\n",
    "student_number = ''\n",
    "Name = ''\n",
    "Last_Name = ''"
   ]
  },
  {
   "attachments": {},
   "cell_type": "markdown",
   "metadata": {},
   "source": [
    "# Rules"
   ]
  },
  {
   "attachments": {},
   "cell_type": "markdown",
   "metadata": {},
   "source": [
    "- You should upload just your Player.py file."
   ]
  },
  {
   "cell_type": "markdown",
   "metadata": {},
   "source": [
    "## Libraries"
   ]
  },
  {
   "cell_type": "code",
   "execution_count": 2,
   "metadata": {},
   "outputs": [
    {
     "name": "stdout",
     "output_type": "stream",
     "text": [
      "pygame 2.1.3 (SDL 2.0.22, Python 3.8.5)\n",
      "Hello from the pygame community. https://www.pygame.org/contribute.html\n"
     ]
    }
   ],
   "source": [
    "import pygame"
   ]
  },
  {
   "attachments": {},
   "cell_type": "markdown",
   "metadata": {},
   "source": [
    "# Q2: Adversarial Search (100 Points)"
   ]
  },
  {
   "attachments": {},
   "cell_type": "markdown",
   "metadata": {},
   "source": [
    "<font size=4>\n",
    "Author: Amirmohammad Isazadeh\n",
    "<br/>\n",
    "<font color=red>\n",
    "Please run all the cells.\n",
    "</font>\n",
    "</font>\n",
    "<br/>\n",
    "</div>"
   ]
  },
  {
   "cell_type": "markdown",
   "metadata": {
    "collectable": true
   },
   "source": [
    "In this problem you must implement a minimax agent to play a game known as Pentago."
   ]
  },
  {
   "cell_type": "markdown",
   "metadata": {},
   "source": [
    "You can see how to play pentago here:   \n",
    "https://www.youtube.com/watch?v=8DgUsC_X0QI\n",
    "\n",
    "extra rules:   \n",
    "If a player rotate a board and both players connect 5 marble, the other player wins."
   ]
  },
  {
   "cell_type": "markdown",
   "metadata": {},
   "source": [
    "The game has already been implemented for you. You should implement two things:  \n",
    "Implement the two minimax player logic in _Player.py_ . For the first player you must create the minimax tree until you reach a desired depth or a cutoff state. Then you must use an evaluation function to score the nodes and find the next best move. For the second player you must do all the above however when you are playing as max their is a probability that you will choose a random move instead of the best move.\n",
    "\n",
    "*** Note that, the result from the game is a part of your score and a small portion of your score is evaluated based on the quality of your code.\n",
    "\n",
    "We will use the commented function in main.py to grade your code. You can also test your code by playing with it or using a random player.   \n",
    "You can play the game with a random player by running the next cell. Upon running it a GUI of the game will open."
   ]
  },
  {
   "cell_type": "code",
   "execution_count": null,
   "metadata": {
    "collectable": true
   },
   "outputs": [
    {
     "name": "stdout",
     "output_type": "stream",
     "text": [
      "player1 is red. player2 is yellow.\n",
      "player2 goes first.\n",
      "player2 move:\n",
      "[[0, 3], 2, 'clockwise']\n"
     ]
    }
   ],
   "source": [
    "from Game import Game\n",
    "from Player import HumanPlayer, RandomPlayer, MiniMaxPlayer, MiniMaxProbPlayer\n",
    "\n",
    "\n",
    "# example 1:\n",
    "player1 = RandomPlayer(1)\n",
    "player2 = RandomPlayer(2)\n",
    "\n",
    "# example 2:\n",
    "# player1 = MiniMaxPlayer(1, depth=5)\n",
    "# player2 = MiniMaxProbPlayer(2, depth=5)\n",
    "\n",
    "game = Game(player1, player2)\n",
    "game.start_game()"
   ]
  },
  {
   "cell_type": "markdown",
   "metadata": {},
   "source": [
    "**Complete  the play function of MiniMaxPlayer and MiniMaxProbPlayer in _player.py_ and then run the following cells to test your implementation.**  "
   ]
  },
  {
   "cell_type": "code",
   "execution_count": null,
   "metadata": {},
   "outputs": [],
   "source": [
    "def get_game_result(player1, player2, num_game):\n",
    "    win, lose, draw = 0, 0, 0\n",
    "    for i in range(num_game):\n",
    "        game = Game(player1, player2, graphics=True)\n",
    "        result = game.start_game()\n",
    "        if result == 1:\n",
    "            win += 1\n",
    "        elif result == 2:\n",
    "            lose += 1\n",
    "        else:\n",
    "            draw += 1\n",
    "    return win, lose, draw\n",
    "        \n",
    "def mark():\n",
    "    player1 = MiniMaxPlayer(1, depth=4)\n",
    "    player2 = RandomPlayer(2)\n",
    "    player3 = MiniMaxProbPlayer(2, depth=3, prob_stochastic=0.8)\n",
    "    win1, lose1, draw1 = get_game_result(player1, player2, 10)\n",
    "    win2, lose2, draw2 = get_game_result(player3, player2, 10)\n",
    "    print(f'minimax player vs random player win={win1}, lose={lose1}, draw={draw1}')\n",
    "    print(f'minimax prob player vs random player win={win2}, lose={lose2}, draw={draw2}')\n",
    "    print(f'score: {win1 + win2}')\n",
    "\n",
    "mark()"
   ]
  }
 ],
 "metadata": {
  "kernelspec": {
   "display_name": "Python 3",
   "language": "python",
   "name": "python3"
  },
  "language_info": {
   "codemirror_mode": {
    "name": "ipython",
    "version": 3
   },
   "file_extension": ".py",
   "mimetype": "text/x-python",
   "name": "python",
   "nbconvert_exporter": "python",
   "pygments_lexer": "ipython3",
   "version": "3.11.1"
  },
  "vscode": {
   "interpreter": {
    "hash": "f72c34bb2e2aa76acaec51e5a386e2497fab8a5e682a38cfc0469e5a4ec35b0f"
   }
  }
 },
 "nbformat": 4,
 "nbformat_minor": 4
}
