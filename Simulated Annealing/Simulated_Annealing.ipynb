{
 "cells": [
  {
   "cell_type": "markdown",
   "metadata": {},
   "source": [
    "<img src='http://www-scf.usc.edu/~ghasemig/images/sharif.png' alt=\"SUT logo\" width=300 height=300 align=left class=\"saturate\" >\n",
    "\n",
    "<br>\n",
    "<font>\n",
    "<div dir=ltr align=center>\n",
    "<font color=0F5298 size=7>\n",
    "    Artificial Intelligence <br>\n",
    "<font color=2565AE size=5>\n",
    "    Computer Engineering Department <br>\n",
    "    Spring 2023<br>\n",
    "<font color=3C99D size=5>\n",
    "    Practical Assignment 1 - Search <br>\n",
    "<font color=696880 size=4>\n",
    "    Mohammad Mahdi Abootorabi and Roozbeh Pirayadi \n",
    "\n",
    "____"
   ]
  },
  {
   "cell_type": "markdown",
   "metadata": {},
   "source": [
    "# Personal Data"
   ]
  },
  {
   "cell_type": "code",
   "execution_count": 1,
   "metadata": {
    "collectable": true,
    "execution": {
     "iopub.execute_input": "2021-10-01T16:01:36.762477Z",
     "iopub.status.busy": "2021-10-01T16:01:36.762155Z",
     "iopub.status.idle": "2021-10-01T16:01:36.764025Z",
     "shell.execute_reply": "2021-10-01T16:01:36.763754Z"
    }
   },
   "outputs": [],
   "source": [
    "# Set your student number\n",
    "student_number = '99101087'\n",
    "Name = 'AmirReza'\n",
    "Last_Name = 'Azari'"
   ]
  },
  {
   "cell_type": "markdown",
   "metadata": {},
   "source": [
    "# Rules\n",
    "- Make sure that all of your cells can be run perfectly. \n",
    "- You are not allowed to add or remove cells. You **must use the provided space to write your code**. If you don't follow this rule, **your Practical Assignment won't be graded**. \n",
    "- There is one cell for your custom functions (if you need any) at the beginning of each question. Please note that this jupyter file might be broken down into 3 or 4 jupyter notebooks for easier grading, so you **must write your custom functions in the correct cell**."
   ]
  },
  {
   "cell_type": "markdown",
   "metadata": {},
   "source": [
    "# Q2: Simulated Annealing (100 Points)"
   ]
  },
  {
   "cell_type": "markdown",
   "metadata": {},
   "source": [
    "<font size=4>\n",
    "Author: Mohammad Mahdi Abootorabi\n",
    "\t\t\t<br/>\n",
    "                <font color=red>\n",
    "Please run all the cells.\n",
    "     </font>\n",
    "</font>\n",
    "                <br/>\n",
    "    </div>"
   ]
  },
  {
   "cell_type": "markdown",
   "metadata": {},
   "source": [
    "## Libraries"
   ]
  },
  {
   "cell_type": "code",
   "execution_count": 1,
   "metadata": {},
   "outputs": [],
   "source": [
    "import numpy as np\n",
    "import random\n",
    "import matplotlib.pyplot as plt\n",
    "from tqdm import tqdm"
   ]
  },
  {
   "cell_type": "code",
   "execution_count": 2,
   "metadata": {
    "collectable": true
   },
   "outputs": [],
   "source": [
    "# place for your custom functions here\n",
    "import math"
   ]
  },
  {
   "cell_type": "markdown",
   "metadata": {},
   "source": [
    "## Knapsack Problem"
   ]
  },
  {
   "cell_type": "markdown",
   "metadata": {},
   "source": [
    "In this problem, we will tackle the knapsack problem with using simulated annealing algorithm. You can find more detail about this problem [here](https://www.geeksforgeeks.org/0-1-knapsack-problem-dp-10/).\n"
   ]
  },
  {
   "cell_type": "markdown",
   "metadata": {},
   "source": [
    "To use local search algorithms, we must define our state-space. As the problem is about choosing a object or not, we define each state as a vector $S$ of size $n$ ( $n$ is total number of objects). \n",
    "\n",
    "$$\n",
    "S_i=   \\left\\{\n",
    "\\begin{array}{ll}\n",
    "      1 & \\text{object $i$ is selected} \\\\\n",
    "      0 & \\text{object $i$ is not selected}\n",
    "\\end{array} \n",
    "\\right.\n",
    "$$"
   ]
  },
  {
   "cell_type": "markdown",
   "metadata": {},
   "source": [
    "Write a function that generates a random state. i.e., it must return a boolean vector of size n. p is probablity of selecting an object. For example, if p=0.5, then the function must return a vector of size n in which each element is selected with 50% probability."
   ]
  },
  {
   "cell_type": "code",
   "execution_count": 3,
   "metadata": {},
   "outputs": [],
   "source": [
    "def random_state_generator(n, p=0.5):\n",
    "    rbv = np.random.binomial(1, p, size=n)\n",
    "    # YOUR CODE #\n",
    "    return rbv"
   ]
  },
  {
   "cell_type": "markdown",
   "metadata": {},
   "source": [
    "## "
   ]
  },
  {
   "cell_type": "markdown",
   "metadata": {},
   "source": [
    "## Value Function\n",
    "\n",
    "Our Proposed Value function is:\n",
    "\n",
    "$$\n",
    "f(S) =   \\left\\{\n",
    "\\begin{array}{ll}\n",
    "      \\sum_{i=1}^{n} s_{i} v_{i} & \\text{if  $\\sum_{i=1}^{n} s_{i} w_{i} \\leq W $ } \\\\\n",
    "      0 & \\text{Otherwise}\n",
    "\\end{array} \n",
    "\\right.\n",
    "$$\n",
    "\n",
    "Note that: \n",
    "\n",
    "n = length of items\n",
    "\n",
    "$s_i$ = ith item of state S\n",
    "\n",
    "$v_i$ = ith value \n",
    "\n",
    "$w_i$ = ith weight \n",
    "\n",
    "$W$ = knapsack weight \n",
    "\n"
   ]
  },
  {
   "cell_type": "code",
   "execution_count": 4,
   "metadata": {
    "collectable": true
   },
   "outputs": [],
   "source": [
    "def value_function(W, weights, values, state):\n",
    "    local_weight = 0\n",
    "    j = 0\n",
    "    for i in state:\n",
    "        local_weight += i * weights[j]\n",
    "        j += 1\n",
    "\n",
    "    if local_weight > W:\n",
    "        return 0\n",
    "\n",
    "    local_value = 0\n",
    "    j = 0\n",
    "    for i in state:\n",
    "        local_value += i * values[j]\n",
    "        j += 1\n",
    "\n",
    "    return local_value"
   ]
  },
  {
   "cell_type": "markdown",
   "metadata": {},
   "source": [
    "## Acceptance probability function\n",
    "\n",
    "the acceptance probability function calculates the probability of accepting a worse solution. It is defined as:\n",
    "$$\n",
    "P = e^{- \\frac{(f(S_{old}) - f(S_{new}))^{1.5}}{T} }\n",
    "$$"
   ]
  },
  {
   "cell_type": "code",
   "execution_count": 5,
   "metadata": {},
   "outputs": [],
   "source": [
    "def prob_accept(state_value, next_state_value, temperature):\n",
    "    val = 0\n",
    "    if state_value - next_state_value < 0:\n",
    "        val = 1\n",
    "    else:\n",
    "        val = math.exp(-1 * math.pow(state_value - next_state_value, 1.5) / temperature)\n",
    "    \n",
    "    return val"
   ]
  },
  {
   "cell_type": "markdown",
   "metadata": {},
   "source": [
    "## Neighbor state generator\n",
    "\n",
    "The neighbor state generator generates a neighbor state of the current state. Our neighbor state generator is defined as:\n",
    "\n",
    "1- Select a random index $i$ from $[1, n]$.\n",
    "\n",
    "2- Flip the value of $S_i$.\n",
    "\n",
    "3- With probablity of 'prob' flip the value of another random index $j$ from $[1, n]$.\n",
    "\n",
    "4- If this state is feasible(the sum of weights of selected objects is less than or equal to the knapsack weight), return this state. Otherwise, Continue from step 1.\n"
   ]
  },
  {
   "cell_type": "code",
   "execution_count": 6,
   "metadata": {},
   "outputs": [],
   "source": [
    "def neighbor_state_generator(state, W, weights, values, prob=0.5):\n",
    "    while True:\n",
    "        help_state = np.copy(state)\n",
    "        index1 = random.randint(0, len(help_state) - 1)\n",
    "        if help_state[index1] == 1:\n",
    "            help_state[index1] = 0\n",
    "        else:\n",
    "            help_state[index1] = 1\n",
    "\n",
    "        index2 = index1\n",
    "        while index1 == index2:\n",
    "            index2 = random.randint(0, len(help_state) - 1)\n",
    "        help_state[index2] = np.random.binomial(1, prob, size=1)[0]\n",
    "        if value_function(W, weights, values, help_state) != 0:\n",
    "            break\n",
    "    \n",
    "    return help_state"
   ]
  },
  {
   "cell_type": "markdown",
   "metadata": {},
   "source": [
    "## Main function\n",
    "\n",
    "Now Implement the main 'anneal' function that performs the algorithm. Try to experiment with different initial T and $alpha$ values to get the best result. Also, your function must implement these two stop criteria:\n",
    "\n",
    "- If the number of iterations exceeded 'stopping_iter', stop.\n",
    "- If the temperature drops below 'stopping_temprature', stop."
   ]
  },
  {
   "cell_type": "code",
   "execution_count": 7,
   "metadata": {},
   "outputs": [],
   "source": [
    "def simulated_annealing(W, weights, values, stopping_temperature=1e-8, stopping_iter=2000, alpha=0.99, T=50,\n",
    "                        neighbour_prob=0.5, initial_state_true_prob=0.5):\n",
    "    n = len(weights)\n",
    "    current_state = random_state_generator(n, initial_state_true_prob)\n",
    "    records = []\n",
    "    iteration = 0\n",
    "    while iteration <= stopping_iter:\n",
    "        iteration += 1\n",
    "        neighbour_state = neighbor_state_generator(current_state, W, weights, values, neighbour_prob)\n",
    "        current_value = value_function(W, weights, values, current_state)\n",
    "        neighbour_value = value_function(W, weights, values, neighbour_state)\n",
    "\n",
    "        if neighbour_value > current_value:\n",
    "            current_state = neighbour_state\n",
    "            current_value = neighbour_value\n",
    "        else:\n",
    "            p = np.random.RandomState(5).random()\n",
    "            p2 = prob_accept(current_value, neighbour_value, T)\n",
    "            if p < p2:\n",
    "                current_state = neighbour_state\n",
    "                current_value = neighbour_value\n",
    "\n",
    "        T *= alpha\n",
    "        if T < stopping_temperature:\n",
    "            break\n",
    "\n",
    "        records.append((current_state, current_value))\n",
    "\n",
    "    best_value = current_value\n",
    "    best_solution = current_state\n",
    "\n",
    "    return best_value, best_solution, records"
   ]
  },
  {
   "cell_type": "markdown",
   "metadata": {},
   "source": [
    "Now lets run it one a sample problem. You can change the parameters of the function to get better results."
   ]
  },
  {
   "cell_type": "code",
   "execution_count": 10,
   "metadata": {},
   "outputs": [
    {
     "name": "stdout",
     "output_type": "stream",
     "text": [
      "best value: 2718\n",
      "weight used: 1000\n"
     ]
    }
   ],
   "source": [
    "weights = [random.randint(0, 50) for _ in range(100)]\n",
    "values = [random.randint(0, 70) for _ in range(100)]\n",
    "W = 1000\n",
    "\n",
    "best_value , best_sol, records = simulated_annealing(W, weights, values, alpha=0.99, neighbour_prob=0.2, initial_state_true_prob=0.2)\n",
    "print(f'best value: {best_value}')\n",
    "print(f'weight used: {np.dot(best_sol, weights)}')\n",
    "\n",
    "# Note that at least you must reach 2400 values used in almost runs if your implementation is good enough."
   ]
  },
  {
   "cell_type": "code",
   "execution_count": 11,
   "metadata": {},
   "outputs": [
    {
     "data": {
      "text/plain": [
       "[<matplotlib.lines.Line2D at 0x1505ac86f40>]"
      ]
     },
     "execution_count": 11,
     "metadata": {},
     "output_type": "execute_result"
    },
    {
     "data": {
      "image/png": "[encoded data removed]",
      "text/plain": [
       "<Figure size 432x288 with 1 Axes>"
      ]
     },
     "metadata": {
      "needs_background": "light"
     },
     "output_type": "display_data"
    }
   ],
   "source": [
    "b = []\n",
    "for inner in records:\n",
    "    b.append(inner[1])\n",
    "plt.plot(b)"
   ]
  },
  {
   "cell_type": "markdown",
   "metadata": {},
   "source": [
    "For better evaluation now just test your algorithm on more examples and see the average value of the best solutions."
   ]
  },
  {
   "cell_type": "code",
   "execution_count": 12,
   "metadata": {},
   "outputs": [],
   "source": [
    "def test_algorithm(number_of_tests):\n",
    "    sum_best_values = 0\n",
    "    for i in range(number_of_tests):\n",
    "        weights = [random.randint(1, 50) for _ in range(100)]\n",
    "        values = [random.randint(0, 75) for _ in range(100)]\n",
    "        W = 1000\n",
    "        best_value, best_solution, _ = simulated_annealing(W, weights, values, alpha=0.99, neighbour_prob=0.2, initial_state_true_prob=0.2)\n",
    "        print(f'best value sample {i + 1}: {best_value}')\n",
    "        print(f'weight used sample {i + 1}: {np.dot(best_solution, weights)}')\n",
    "        sum_best_values += best_value\n",
    "    return sum_best_values / number_of_tests\n"
   ]
  },
  {
   "cell_type": "code",
   "execution_count": 13,
   "metadata": {},
   "outputs": [
    {
     "name": "stdout",
     "output_type": "stream",
     "text": [
      "best value sample 1: 2668\n",
      "weight used sample 1: 999\n",
      "best value sample 2: 2820\n",
      "weight used sample 2: 998\n",
      "best value sample 3: 2769\n",
      "weight used sample 3: 997\n",
      "best value sample 4: 2604\n",
      "weight used sample 4: 1000\n",
      "best value sample 5: 2651\n",
      "weight used sample 5: 997\n",
      "best value sample 6: 2486\n",
      "weight used sample 6: 1000\n",
      "best value sample 7: 2403\n",
      "weight used sample 7: 998\n",
      "best value sample 8: 2484\n",
      "weight used sample 8: 998\n",
      "best value sample 9: 2505\n",
      "weight used sample 9: 1000\n",
      "best value sample 10: 2818\n",
      "weight used sample 10: 1000\n",
      "best value sample 11: 2667\n",
      "weight used sample 11: 1000\n",
      "best value sample 12: 2431\n",
      "weight used sample 12: 998\n",
      "best value sample 13: 2087\n",
      "weight used sample 13: 999\n",
      "best value sample 14: 2633\n",
      "weight used sample 14: 999\n",
      "best value sample 15: 2322\n",
      "weight used sample 15: 988\n",
      "best value sample 16: 2474\n",
      "weight used sample 16: 997\n",
      "best value sample 17: 2916\n",
      "weight used sample 17: 1000\n",
      "best value sample 18: 2738\n",
      "weight used sample 18: 998\n",
      "best value sample 19: 2612\n",
      "weight used sample 19: 993\n",
      "best value sample 20: 2813\n",
      "weight used sample 20: 998\n",
      "Average of best values that algorithm reached is 2595.05\n"
     ]
    }
   ],
   "source": [
    "# (15 Points)\n",
    "# Reaching 2400 is good enough.\n",
    "\n",
    "print(f\"Average of best values that algorithm reached is {test_algorithm(20)}\")"
   ]
  }
 ],
 "metadata": {
  "kernelspec": {
   "display_name": "Python 3 (ipykernel)",
   "language": "python",
   "name": "python3"
  },
  "language_info": {
   "codemirror_mode": {
    "name": "ipython",
    "version": 3
   },
   "file_extension": ".py",
   "mimetype": "text/x-python",
   "name": "python",
   "nbconvert_exporter": "python",
   "pygments_lexer": "ipython3",
   "version": "3.9.7"
  },
  "vscode": {
   "interpreter": {
    "hash": "f72c34bb2e2aa76acaec51e5a386e2497fab8a5e682a38cfc0469e5a4ec35b0f"
   }
  }
 },
 "nbformat": 4,
 "nbformat_minor": 4
}
